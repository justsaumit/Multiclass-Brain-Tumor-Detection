{
 "cells": [
  {
   "cell_type": "code",
   "execution_count": 1,
   "id": "7fb495a1",
   "metadata": {
    "_cell_guid": "b1076dfc-b9ad-4769-8c92-a6c4dae69d19",
    "_uuid": "8f2839f25d086af736a60e9eeb907d3b93b6e0e5",
    "execution": {
     "iopub.execute_input": "2023-03-18T23:17:15.271985Z",
     "iopub.status.busy": "2023-03-18T23:17:15.271499Z",
     "iopub.status.idle": "2023-03-18T23:17:25.539312Z",
     "shell.execute_reply": "2023-03-18T23:17:25.538041Z"
    },
    "papermill": {
     "duration": 10.275051,
     "end_time": "2023-03-18T23:17:25.542138",
     "exception": false,
     "start_time": "2023-03-18T23:17:15.267087",
     "status": "completed"
    },
    "tags": []
   },
   "outputs": [
    {
     "name": "stdout",
     "output_type": "stream",
     "text": [
      "Requirement already satisfied: scikit-learn-intelex in /opt/conda/lib/python3.7/site-packages (2021.6.3)\r\n",
      "Requirement already satisfied: scikit-learn>=0.22 in /opt/conda/lib/python3.7/site-packages (from scikit-learn-intelex) (1.0.2)\r\n",
      "Requirement already satisfied: daal4py==2021.6.3 in /opt/conda/lib/python3.7/site-packages (from scikit-learn-intelex) (2021.6.3)\r\n",
      "Requirement already satisfied: numpy>=1.15 in /opt/conda/lib/python3.7/site-packages (from daal4py==2021.6.3->scikit-learn-intelex) (1.21.6)\r\n",
      "Requirement already satisfied: daal==2021.6.0 in /opt/conda/lib/python3.7/site-packages (from daal4py==2021.6.3->scikit-learn-intelex) (2021.6.0)\r\n",
      "Requirement already satisfied: tbb==2021.* in /opt/conda/lib/python3.7/site-packages (from daal==2021.6.0->daal4py==2021.6.3->scikit-learn-intelex) (2021.8.0)\r\n",
      "Requirement already satisfied: joblib>=0.11 in /opt/conda/lib/python3.7/site-packages (from scikit-learn>=0.22->scikit-learn-intelex) (1.2.0)\r\n",
      "Requirement already satisfied: threadpoolctl>=2.0.0 in /opt/conda/lib/python3.7/site-packages (from scikit-learn>=0.22->scikit-learn-intelex) (3.1.0)\r\n",
      "Requirement already satisfied: scipy>=1.1.0 in /opt/conda/lib/python3.7/site-packages (from scikit-learn>=0.22->scikit-learn-intelex) (1.7.3)\r\n",
      "\u001b[33mWARNING: Running pip as the 'root' user can result in broken permissions and conflicting behaviour with the system package manager. It is recommended to use a virtual environment instead: https://pip.pypa.io/warnings/venv\u001b[0m\u001b[33m\r\n",
      "\u001b[0m"
     ]
    }
   ],
   "source": [
    "!pip install scikit-learn-intelex"
   ]
  },
  {
   "cell_type": "code",
   "execution_count": 2,
   "id": "5e48d851",
   "metadata": {
    "execution": {
     "iopub.execute_input": "2023-03-18T23:17:25.548525Z",
     "iopub.status.busy": "2023-03-18T23:17:25.547346Z",
     "iopub.status.idle": "2023-03-18T23:17:27.536364Z",
     "shell.execute_reply": "2023-03-18T23:17:27.534747Z"
    },
    "papermill": {
     "duration": 1.994583,
     "end_time": "2023-03-18T23:17:27.538913",
     "exception": false,
     "start_time": "2023-03-18T23:17:25.544330",
     "status": "completed"
    },
    "tags": []
   },
   "outputs": [
    {
     "name": "stderr",
     "output_type": "stream",
     "text": [
      "Intel(R) Extension for Scikit-learn* enabled (https://github.com/intel/scikit-learn-intelex)\n"
     ]
    }
   ],
   "source": [
    "from sklearnex import patch_sklearn\n",
    "\n",
    "patch_sklearn()"
   ]
  },
  {
   "cell_type": "code",
   "execution_count": 3,
   "id": "343033f1",
   "metadata": {
    "execution": {
     "iopub.execute_input": "2023-03-18T23:17:27.546014Z",
     "iopub.status.busy": "2023-03-18T23:17:27.544146Z",
     "iopub.status.idle": "2023-03-18T23:17:35.494283Z",
     "shell.execute_reply": "2023-03-18T23:17:35.493267Z"
    },
    "papermill": {
     "duration": 7.95712,
     "end_time": "2023-03-18T23:17:35.498207",
     "exception": false,
     "start_time": "2023-03-18T23:17:27.541087",
     "status": "completed"
    },
    "tags": []
   },
   "outputs": [],
   "source": [
    "# math related operations\n",
    "import numpy as np\n",
    "import pandas as pd\n",
    "\n",
    "# machine learning\n",
    "import cv2\n",
    "import os\n",
    "from random import shuffle\n",
    "from tqdm import tqdm\n",
    "import random\n",
    "\n",
    "# to open, load, convert array to image\n",
    "from PIL import Image\n",
    "\n",
    "# to preprocess the image\n",
    "from tensorflow.keras.preprocessing import image\n",
    "import matplotlib.pyplot as plt\n",
    "\n",
    "# Since it is multiclass classification, one hot encoding is needed\n",
    "from tensorflow.keras.utils import to_categorical\n",
    "from tensorflow.keras.models import Sequential\n",
    "from tensorflow.keras.layers import Conv2D, MaxPooling2D, Dense, Flatten, Dropout\n",
    "from tensorflow.keras.callbacks import EarlyStopping, ModelCheckpoint, ReduceLROnPlateau\n",
    "\n",
    "# for augmentation\n",
    "from tensorflow.keras.preprocessing.image import ImageDataGenerator\n",
    "\n",
    "# MobileNetV3 model\n",
    "from tensorflow.keras.applications import mobilenet_v3\n",
    "from tensorflow.keras import Model, layers\n",
    "from numpy import loadtxt\n",
    "\n",
    "import itertools\n",
    "from sklearn.metrics import confusion_matrix, classification_report\n",
    "\n",
    "from tensorflow.keras.applications.imagenet_utils import preprocess_input, decode_predictions\n",
    "from tensorflow.keras.models import load_model\n",
    "from tensorflow.keras.preprocessing import image"
   ]
  }
 ],
 "metadata": {
  "kernelspec": {
   "display_name": "Python 3",
   "language": "python",
   "name": "python3"
  },
  "language_info": {
   "codemirror_mode": {
    "name": "ipython",
    "version": 3
   },
   "file_extension": ".py",
   "mimetype": "text/x-python",
   "name": "python",
   "nbconvert_exporter": "python",
   "pygments_lexer": "ipython3",
   "version": "3.7.12"
  },
  "papermill": {
   "default_parameters": {},
   "duration": 32.9512,
   "end_time": "2023-03-18T23:17:38.521361",
   "environment_variables": {},
   "exception": null,
   "input_path": "__notebook__.ipynb",
   "output_path": "__notebook__.ipynb",
   "parameters": {},
   "start_time": "2023-03-18T23:17:05.570161",
   "version": "2.4.0"
  }
 },
 "nbformat": 4,
 "nbformat_minor": 5
}
